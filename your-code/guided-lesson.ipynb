{
 "cells": [
  {
   "cell_type": "markdown",
   "metadata": {},
   "source": [
    "# Parsing APIs Example"
   ]
  },
  {
   "cell_type": "markdown",
   "metadata": {},
   "source": [
    "## Intro\n",
    "\n",
    "Now we will take a look on a real data. When you parse data from web you will often meet API based web-pages. \n",
    "\n",
    "For example [zalando.fr](https://www.zalando.fr/accueil-homme/) is API based web-page. \n",
    "\n",
    "In this guided lab you will learn how to obtain the links from webpages and extract the data. Read through this doc, execute the cells in order and make sure you understand the explanations. \n",
    "\n",
    "*Note: This guided lab uses Google Chrome. Other browsers like Safari and Firefox have similar tools for developers but they work differently. To save your time in following this lab, it is strongly recommended that you install and use Google Chrome.*"
   ]
  },
  {
   "cell_type": "markdown",
   "metadata": {},
   "source": [
    "## Obtaining the link\n",
    "\n",
    "Zalando is discount e-store where you can buy clothes and accesories with discount. When we go to the web-page, we can choose different sections. First the general process will be shown using [Children section](https://www.zalando.fr/accueil-enfant/) as example.\n",
    "\n",
    "Here we will parse data about promotions only. Therefore, final output will be the DataFrame with all the goods under discount.\n",
    "\n",
    "[![Image from Gyazo](https://i.gyazo.com/fa4874d8e81c7570273bbfb853d66308.png)](https://gyazo.com/fa4874d8e81c7570273bbfb853d66308)\n",
    "\n",
    "\n",
    "We go to Promos page. Right click of mouse shows us a list of actions possible, from which we select Inspect.\n",
    "\n",
    "<img src='https://i.gyazo.com/bccbd11d69c9040dc98758d443e32052.png' width=\"400\">\n",
    "\n",
    "\n",
    "You will see the menu dropdown on the right side or on the bottom of the window. There you should click on Network:\n",
    "\n",
    "\n",
    "[![Image from Gyazo](https://i.gyazo.com/f7e0db81cbfee67694183d1a7640bf81.png)](https://gyazo.com/f7e0db81cbfee67694183d1a7640bf81)"
   ]
  },
  {
   "cell_type": "markdown",
   "metadata": {},
   "source": [
    "Right after the developer part will change showing the files behind the page. In order to obtain only useful files we select the following settings:\n",
    "1. Preserve Log\n",
    "2. Select XHR files.\n",
    "\n",
    "[![Image from Gyazo](https://i.gyazo.com/9a899d4441d9d93e795f79747f1e47d5.png)](https://gyazo.com/9a899d4441d9d93e795f79747f1e47d5)\n",
    "\n",
    "In order to obtain some files we need to scrool down and go forward to second page. \n",
    "\n",
    "[![Image from Gyazo](https://i.gyazo.com/0956eb3d5125075a236c9a439c7749c7.png)](https://gyazo.com/0956eb3d5125075a236c9a439c7749c7)\n",
    "\n",
    "In the Network panel you can see the following files being uploaded. All the data on the web-page is uploaded from the json file, which is one of the following. It is important to understand which file contains what kind of information. \n",
    "\n",
    "<a href=\"https://gyazo.com/cf97a655869f0b22df0ada1cb2a41c3c\"><img src=\"https://i.gyazo.com/cf97a655869f0b22df0ada1cb2a41c3c.png\" alt=\"Image from Gyazo\" width=\"724.8\"/></a>\n",
    "\n",
    "When you find what kind of information you need for the data to be uploaded you just test it. Here we need the article... file:\n",
    "\n",
    "<a href=\"https://gyazo.com/78b35bf492994b3f35c0564a21da202a\"><img src=\"https://i.gyazo.com/78b35bf492994b3f35c0564a21da202a.png\" alt=\"Image from Gyazo\" width=\"727.2\"/></a>\n",
    "\n",
    "When we test the link in Chrome inkognito mode we obtain the proper json file:\n",
    "\n",
    "\n",
    "<a href=\"https://gyazo.com/b60453fa98454fa29771c731a5174443\"><img src=\"https://i.gyazo.com/b60453fa98454fa29771c731a5174443.png\" alt=\"Image from Gyazo\" width=\"1530.4\"/></a>"
   ]
  },
  {
   "cell_type": "markdown",
   "metadata": {},
   "source": [
    "In order to change the objects in the json file (kind of pagination), you need to change the offset (the number of the first element on the page). in fact, if you take a look on the link, it is easy to unerstand the structure of the link.\n",
    "\n",
    "# Reading the data\n",
    "\n",
    "Now the party rocks! When we know how can we obtain the data, it is not a problem to obtain the whole database with all the data from the web-page.\n",
    "In this lab you will collect your database of Zalando products. You select which goods you want to track. You can define as many filters to your data as you want. Just make sure that the data represents the filters.\n",
    "\n",
    "\n"
   ]
  },
  {
   "cell_type": "code",
   "execution_count": 1,
   "metadata": {},
   "outputs": [],
   "source": [
    "import json\n",
    "import requests\n",
    "import numpy as np\n",
    "import pandas as pd\n",
    "from pandas.io.json import json_normalize"
   ]
  },
  {
   "cell_type": "code",
   "execution_count": 2,
   "metadata": {},
   "outputs": [],
   "source": [
    "# Paste the url you obtained for your data\n",
    "url='https://www.zalando.fr/api/catalog/articles?categories=promo-enfant&limit=84&offset=84&sort=sale'\n"
   ]
  },
  {
   "cell_type": "markdown",
   "metadata": {},
   "source": [
    "#### Collect first 84 object of the of the data (1st page)\n",
    "\n",
    "Your output should be a Pandas DataFrame of goods. Each row should contain only text or numbers, having *family_articles, flags, media* and *sizes* remaining lists (they are exceptions). Hint: use the headers parameter to get the data!"
   ]
  },
  {
   "cell_type": "code",
   "execution_count": 3,
   "metadata": {},
   "outputs": [],
   "source": [
    "# headers definition\n",
    "headers = {'user-agent': 'Mozilla/5.0 (X11; Linux x86_64) AppleWebKit/537.36 (KHTML, like Gecko) Ubuntu Chromium/75.0.3770.90 Chrome/75.0.3770.90 Safari/537.36'}"
   ]
  },
  {
   "cell_type": "code",
   "execution_count": 4,
   "metadata": {},
   "outputs": [],
   "source": [
    "# Your code\n",
    "response = requests.get(url, headers = headers)\n",
    "results = response.json()"
   ]
  },
  {
   "cell_type": "code",
   "execution_count": 5,
   "metadata": {},
   "outputs": [
    {
     "data": {
      "text/html": [
       "<div>\n",
       "<style scoped>\n",
       "    .dataframe tbody tr th:only-of-type {\n",
       "        vertical-align: middle;\n",
       "    }\n",
       "\n",
       "    .dataframe tbody tr th {\n",
       "        vertical-align: top;\n",
       "    }\n",
       "\n",
       "    .dataframe thead th {\n",
       "        text-align: right;\n",
       "    }\n",
       "</style>\n",
       "<table border=\"1\" class=\"dataframe\">\n",
       "  <thead>\n",
       "    <tr style=\"text-align: right;\">\n",
       "      <th></th>\n",
       "      <th>articles</th>\n",
       "      <th>articlesToShow</th>\n",
       "      <th>breadcrumbs</th>\n",
       "      <th>carouselTeaser</th>\n",
       "      <th>categoryTree</th>\n",
       "      <th>collection</th>\n",
       "      <th>contentPositions.entry-point-teasers</th>\n",
       "      <th>contentPositions.in-cat-carousel</th>\n",
       "      <th>contentPositions.in-cat-carousel-fullwidth</th>\n",
       "      <th>contentPositions.in-cat-carousel-mobile</th>\n",
       "      <th>...</th>\n",
       "      <th>total_article_count</th>\n",
       "      <th>total_count</th>\n",
       "      <th>upperInCatTeaser</th>\n",
       "      <th>variants.fullWidthCatalog</th>\n",
       "      <th>variants.hideCategories</th>\n",
       "      <th>variants.mobileLightFilters</th>\n",
       "      <th>variants.myBrandsFilter</th>\n",
       "      <th>variants.outwardTeaserCard</th>\n",
       "      <th>variants.premiumCatalog</th>\n",
       "      <th>wishlist</th>\n",
       "    </tr>\n",
       "  </thead>\n",
       "  <tbody>\n",
       "    <tr>\n",
       "      <th>0</th>\n",
       "      <td>[{'sku': 'ES124A08B-K11', 'name': 'PANTS - Jea...</td>\n",
       "      <td>84</td>\n",
       "      <td>[{'items': [{'label': 'Enfant', 'url_key': 'en...</td>\n",
       "      <td>None</td>\n",
       "      <td>[{'label': 'Promotions', 'id': '9574', 'url_ke...</td>\n",
       "      <td>None</td>\n",
       "      <td>[7, 14, 20, 26]</td>\n",
       "      <td>9</td>\n",
       "      <td>8</td>\n",
       "      <td>6</td>\n",
       "      <td>...</td>\n",
       "      <td>19943</td>\n",
       "      <td>19949</td>\n",
       "      <td>None</td>\n",
       "      <td>False</td>\n",
       "      <td>False</td>\n",
       "      <td>False</td>\n",
       "      <td>True</td>\n",
       "      <td>False</td>\n",
       "      <td>False</td>\n",
       "      <td>None</td>\n",
       "    </tr>\n",
       "  </tbody>\n",
       "</table>\n",
       "<p>1 rows × 151 columns</p>\n",
       "</div>"
      ],
      "text/plain": [
       "                                            articles  articlesToShow  \\\n",
       "0  [{'sku': 'ES124A08B-K11', 'name': 'PANTS - Jea...              84   \n",
       "\n",
       "                                         breadcrumbs carouselTeaser  \\\n",
       "0  [{'items': [{'label': 'Enfant', 'url_key': 'en...           None   \n",
       "\n",
       "                                        categoryTree collection  \\\n",
       "0  [{'label': 'Promotions', 'id': '9574', 'url_ke...       None   \n",
       "\n",
       "  contentPositions.entry-point-teasers  contentPositions.in-cat-carousel  \\\n",
       "0                      [7, 14, 20, 26]                                 9   \n",
       "\n",
       "   contentPositions.in-cat-carousel-fullwidth  \\\n",
       "0                                           8   \n",
       "\n",
       "   contentPositions.in-cat-carousel-mobile  ...  total_article_count  \\\n",
       "0                                        6  ...                19943   \n",
       "\n",
       "   total_count upperInCatTeaser variants.fullWidthCatalog  \\\n",
       "0        19949             None                     False   \n",
       "\n",
       "  variants.hideCategories variants.mobileLightFilters variants.myBrandsFilter  \\\n",
       "0                   False                       False                    True   \n",
       "\n",
       "  variants.outwardTeaserCard  variants.premiumCatalog wishlist  \n",
       "0                      False                    False     None  \n",
       "\n",
       "[1 rows x 151 columns]"
      ]
     },
     "execution_count": 5,
     "metadata": {},
     "output_type": "execute_result"
    }
   ],
   "source": [
    "flattened_data = json_normalize(results)\n",
    "flattened_data.head()"
   ]
  },
  {
   "cell_type": "code",
   "execution_count": 6,
   "metadata": {},
   "outputs": [
    {
     "data": {
      "text/html": [
       "<div>\n",
       "<style scoped>\n",
       "    .dataframe tbody tr th:only-of-type {\n",
       "        vertical-align: middle;\n",
       "    }\n",
       "\n",
       "    .dataframe tbody tr th {\n",
       "        vertical-align: top;\n",
       "    }\n",
       "\n",
       "    .dataframe thead th {\n",
       "        text-align: right;\n",
       "    }\n",
       "</style>\n",
       "<table border=\"1\" class=\"dataframe\">\n",
       "  <thead>\n",
       "    <tr style=\"text-align: right;\">\n",
       "      <th></th>\n",
       "      <th>amount</th>\n",
       "      <th>brand_name</th>\n",
       "      <th>family_articles</th>\n",
       "      <th>flags</th>\n",
       "      <th>is_premium</th>\n",
       "      <th>media</th>\n",
       "      <th>name</th>\n",
       "      <th>price.has_different_original_prices</th>\n",
       "      <th>price.has_different_prices</th>\n",
       "      <th>price.has_different_promotional_prices</th>\n",
       "      <th>price.has_discount_on_selected_sizes_only</th>\n",
       "      <th>price.original</th>\n",
       "      <th>price.promotional</th>\n",
       "      <th>product_group</th>\n",
       "      <th>sizes</th>\n",
       "      <th>sku</th>\n",
       "      <th>url_key</th>\n",
       "    </tr>\n",
       "  </thead>\n",
       "  <tbody>\n",
       "    <tr>\n",
       "      <th>0</th>\n",
       "      <td>NaN</td>\n",
       "      <td>Esprit</td>\n",
       "      <td>[{'sku': 'ES124A08B-K11', 'url_key': 'esprit-p...</td>\n",
       "      <td>[{'key': 'discountRate', 'value': 'Jusqu’à -70...</td>\n",
       "      <td>False</td>\n",
       "      <td>[{'path': 'ES/12/4A/08/BK/11/ES124A08B-K11@2.j...</td>\n",
       "      <td>PANTS - Jean slim - medium wash</td>\n",
       "      <td>False</td>\n",
       "      <td>True</td>\n",
       "      <td>True</td>\n",
       "      <td>False</td>\n",
       "      <td>35,99 €</td>\n",
       "      <td>10,80 €</td>\n",
       "      <td>clothing</td>\n",
       "      <td>[2a, 3a, 4a, 5a, 6a, 7a, 8a]</td>\n",
       "      <td>ES124A08B-K11</td>\n",
       "      <td>esprit-pants-jean-slim-medium-wash-es124a08b-k11</td>\n",
       "    </tr>\n",
       "    <tr>\n",
       "      <th>1</th>\n",
       "      <td>NaN</td>\n",
       "      <td>Converse</td>\n",
       "      <td>[{'sku': 'CO423G016-Q11', 'url_key': 'converse...</td>\n",
       "      <td>[{'key': 'discountRate', 'value': '-60%', 'tra...</td>\n",
       "      <td>False</td>\n",
       "      <td>[{'path': 'CO/42/3G/01/6Q/11/CO423G016-Q11@5.j...</td>\n",
       "      <td>WORLDWIDE FEMME TEE - T-shirt imprimé - black</td>\n",
       "      <td>False</td>\n",
       "      <td>False</td>\n",
       "      <td>False</td>\n",
       "      <td>False</td>\n",
       "      <td>29,95 €</td>\n",
       "      <td>12,00 €</td>\n",
       "      <td>clothing</td>\n",
       "      <td>[8-10a, 10-12a, 12-13a, 13-15a]</td>\n",
       "      <td>CO423G016-Q11</td>\n",
       "      <td>converse-worldwide-femme-tee-t-shirt-imprime-b...</td>\n",
       "    </tr>\n",
       "    <tr>\n",
       "      <th>2</th>\n",
       "      <td>NaN</td>\n",
       "      <td>Re-Gen</td>\n",
       "      <td>[{'sku': 'RG524K00Q-K11', 'url_key': 're-gen-t...</td>\n",
       "      <td>[{'key': 'discountRate', 'value': '-70%', 'tra...</td>\n",
       "      <td>False</td>\n",
       "      <td>[{'path': 'RG/52/4K/00/QK/11/RG524K00Q-K11@5.j...</td>\n",
       "      <td>TEENS  - Pullover - blue nights</td>\n",
       "      <td>False</td>\n",
       "      <td>False</td>\n",
       "      <td>False</td>\n",
       "      <td>False</td>\n",
       "      <td>29,95 €</td>\n",
       "      <td>9,00 €</td>\n",
       "      <td>clothing</td>\n",
       "      <td>[10a, 12a, 14a, 16a]</td>\n",
       "      <td>RG524K00Q-K11</td>\n",
       "      <td>re-gen-teens-pullover-blue-nights-rg524k00q-k11</td>\n",
       "    </tr>\n",
       "    <tr>\n",
       "      <th>3</th>\n",
       "      <td>NaN</td>\n",
       "      <td>MOSCHINO</td>\n",
       "      <td>[{'sku': '6MO24K008-K11', 'url_key': 'moschino...</td>\n",
       "      <td>[{'key': 'discountRate', 'value': '-70%', 'tra...</td>\n",
       "      <td>True</td>\n",
       "      <td>[{'path': '6M/O2/4K/00/8K/11/6MO24K008-K11@7.j...</td>\n",
       "      <td>HOODED - Sweatshirt - baya blue maramao</td>\n",
       "      <td>False</td>\n",
       "      <td>True</td>\n",
       "      <td>True</td>\n",
       "      <td>False</td>\n",
       "      <td>159,95 €</td>\n",
       "      <td>48,00 €</td>\n",
       "      <td>clothing</td>\n",
       "      <td>[4a, 6a, 8a, 10a, 12a, 14a]</td>\n",
       "      <td>6MO24K008-K11</td>\n",
       "      <td>moschino-hooded-sweatshirt-baya-blue-maramao-6...</td>\n",
       "    </tr>\n",
       "    <tr>\n",
       "      <th>4</th>\n",
       "      <td>NaN</td>\n",
       "      <td>GAP</td>\n",
       "      <td>[{'sku': 'GP024G0EC-B11', 'url_key': 'gap-todd...</td>\n",
       "      <td>[{'key': 'discountRate', 'value': '-70%', 'tra...</td>\n",
       "      <td>False</td>\n",
       "      <td>[{'path': 'GP/02/4G/0E/CB/11/GP024G0EC-B11@2.j...</td>\n",
       "      <td>TODDLER BOY TANK - Débardeur - new off white</td>\n",
       "      <td>False</td>\n",
       "      <td>False</td>\n",
       "      <td>False</td>\n",
       "      <td>False</td>\n",
       "      <td>9,95 €</td>\n",
       "      <td>3,00 €</td>\n",
       "      <td>clothing</td>\n",
       "      <td>[2a, 3a, 4a, 5a, 12-18m, 18-24m]</td>\n",
       "      <td>GP024G0EC-B11</td>\n",
       "      <td>gap-toddler-boy-tank-debardeur-gp024g0ec-b11</td>\n",
       "    </tr>\n",
       "  </tbody>\n",
       "</table>\n",
       "</div>"
      ],
      "text/plain": [
       "  amount brand_name                                    family_articles  \\\n",
       "0    NaN     Esprit  [{'sku': 'ES124A08B-K11', 'url_key': 'esprit-p...   \n",
       "1    NaN   Converse  [{'sku': 'CO423G016-Q11', 'url_key': 'converse...   \n",
       "2    NaN     Re-Gen  [{'sku': 'RG524K00Q-K11', 'url_key': 're-gen-t...   \n",
       "3    NaN   MOSCHINO  [{'sku': '6MO24K008-K11', 'url_key': 'moschino...   \n",
       "4    NaN        GAP  [{'sku': 'GP024G0EC-B11', 'url_key': 'gap-todd...   \n",
       "\n",
       "                                               flags  is_premium  \\\n",
       "0  [{'key': 'discountRate', 'value': 'Jusqu’à -70...       False   \n",
       "1  [{'key': 'discountRate', 'value': '-60%', 'tra...       False   \n",
       "2  [{'key': 'discountRate', 'value': '-70%', 'tra...       False   \n",
       "3  [{'key': 'discountRate', 'value': '-70%', 'tra...        True   \n",
       "4  [{'key': 'discountRate', 'value': '-70%', 'tra...       False   \n",
       "\n",
       "                                               media  \\\n",
       "0  [{'path': 'ES/12/4A/08/BK/11/ES124A08B-K11@2.j...   \n",
       "1  [{'path': 'CO/42/3G/01/6Q/11/CO423G016-Q11@5.j...   \n",
       "2  [{'path': 'RG/52/4K/00/QK/11/RG524K00Q-K11@5.j...   \n",
       "3  [{'path': '6M/O2/4K/00/8K/11/6MO24K008-K11@7.j...   \n",
       "4  [{'path': 'GP/02/4G/0E/CB/11/GP024G0EC-B11@2.j...   \n",
       "\n",
       "                                            name  \\\n",
       "0                PANTS - Jean slim - medium wash   \n",
       "1  WORLDWIDE FEMME TEE - T-shirt imprimé - black   \n",
       "2                TEENS  - Pullover - blue nights   \n",
       "3        HOODED - Sweatshirt - baya blue maramao   \n",
       "4   TODDLER BOY TANK - Débardeur - new off white   \n",
       "\n",
       "   price.has_different_original_prices  price.has_different_prices  \\\n",
       "0                                False                        True   \n",
       "1                                False                       False   \n",
       "2                                False                       False   \n",
       "3                                False                        True   \n",
       "4                                False                       False   \n",
       "\n",
       "   price.has_different_promotional_prices  \\\n",
       "0                                    True   \n",
       "1                                   False   \n",
       "2                                   False   \n",
       "3                                    True   \n",
       "4                                   False   \n",
       "\n",
       "   price.has_discount_on_selected_sizes_only price.original price.promotional  \\\n",
       "0                                      False        35,99 €           10,80 €   \n",
       "1                                      False        29,95 €           12,00 €   \n",
       "2                                      False        29,95 €            9,00 €   \n",
       "3                                      False       159,95 €           48,00 €   \n",
       "4                                      False         9,95 €            3,00 €   \n",
       "\n",
       "  product_group                             sizes            sku  \\\n",
       "0      clothing      [2a, 3a, 4a, 5a, 6a, 7a, 8a]  ES124A08B-K11   \n",
       "1      clothing   [8-10a, 10-12a, 12-13a, 13-15a]  CO423G016-Q11   \n",
       "2      clothing              [10a, 12a, 14a, 16a]  RG524K00Q-K11   \n",
       "3      clothing       [4a, 6a, 8a, 10a, 12a, 14a]  6MO24K008-K11   \n",
       "4      clothing  [2a, 3a, 4a, 5a, 12-18m, 18-24m]  GP024G0EC-B11   \n",
       "\n",
       "                                             url_key  \n",
       "0   esprit-pants-jean-slim-medium-wash-es124a08b-k11  \n",
       "1  converse-worldwide-femme-tee-t-shirt-imprime-b...  \n",
       "2    re-gen-teens-pullover-blue-nights-rg524k00q-k11  \n",
       "3  moschino-hooded-sweatshirt-baya-blue-maramao-6...  \n",
       "4       gap-toddler-boy-tank-debardeur-gp024g0ec-b11  "
      ]
     },
     "execution_count": 6,
     "metadata": {},
     "output_type": "execute_result"
    }
   ],
   "source": [
    "articles = json_normalize(flattened_data.articles[0])\n",
    "articles.head()"
   ]
  },
  {
   "cell_type": "markdown",
   "metadata": {},
   "source": [
    "#### Collect all the objects from selected filters. Total number of pages can be found in the same json. Use *sku* column as index.\n",
    "\n",
    "Your output should be a Pandas DataFrame of goods. Each row should contain only text or numbers, having family_articles, flags, media and sizes remaining lists (they are exceptions)."
   ]
  },
  {
   "cell_type": "code",
   "execution_count": 8,
   "metadata": {},
   "outputs": [],
   "source": [
    "# Get the total number of pages\n",
    "total_pages = results['pagination']['page_count']\n",
    "\n",
    "df = pd.DataFrame()\n",
    "for i in range(total_pages):\n",
    "    art_per_page = i*84\n",
    "    url_loop = 'https://www.zalando.fr/api/catalog/articles?categories=promo-enfant&limit=84&offset='+str(art_per_page)+'&sort=sale'\n",
    "    results_loop = requests.get(url_loop, headers = headers).json()\n",
    "    flattened_data_loop = json_normalize(results_loop)\n",
    "    articles_loop = json_normalize(flattened_data_loop.articles[0])\n",
    "    df = df.append(articles_loop)"
   ]
  },
  {
   "cell_type": "code",
   "execution_count": 9,
   "metadata": {},
   "outputs": [],
   "source": [
    "df= df.set_index('sku')"
   ]
  },
  {
   "cell_type": "code",
   "execution_count": 10,
   "metadata": {},
   "outputs": [
    {
     "data": {
      "text/plain": [
       "(19945, 19)"
      ]
     },
     "execution_count": 10,
     "metadata": {},
     "output_type": "execute_result"
    }
   ],
   "source": [
    "df.shape"
   ]
  },
  {
   "cell_type": "markdown",
   "metadata": {},
   "source": [
    "#### Display the trending brand in DataFrame"
   ]
  },
  {
   "cell_type": "code",
   "execution_count": 12,
   "metadata": {},
   "outputs": [
    {
     "data": {
      "text/plain": [
       "Friboo    885\n",
       "Name: brand_name, dtype: int64"
      ]
     },
     "execution_count": 12,
     "metadata": {},
     "output_type": "execute_result"
    }
   ],
   "source": [
    "# your code\n",
    "df['brand_name'].value_counts().head(1)"
   ]
  },
  {
   "cell_type": "markdown",
   "metadata": {},
   "source": [
    "#### Display the brand with maximal total discount (sum of discounts on all goods)"
   ]
  },
  {
   "cell_type": "code",
   "execution_count": 15,
   "metadata": {},
   "outputs": [
    {
     "data": {
      "text/plain": [
       "sku\n",
       "LT123A00U-C13     49.95\n",
       "LT123C00A-K12     39.95\n",
       "LT124C00H-K12     39.95\n",
       "NI114D095-G11    144.95\n",
       "NI114D0A8-K11    144.95\n",
       "AD116D0K3-Q11     59.95\n",
       "CO416A03L-802     49.95\n",
       "NI114D0AF-Q11     84.95\n",
       "LA224G01L-E14     25.00\n",
       "NI114D0A1-C11     94.95\n",
       "NI114F00V-C11     59.95\n",
       "LA213D01D-A11     69.95\n",
       "NI114D095-B11    144.95\n",
       "NI114D0A1-C12     94.95\n",
       "TO184A00H-A11     25.95\n",
       "LT124C00E-K16     44.95\n",
       "LT124A00W-C11     49.95\n",
       "ME143B008-I11     54.95\n",
       "AD124G02C-A11     24.95\n",
       "AD116D0GW-A11     64.95\n",
       "CO423G018-A11     34.95\n",
       "NI113D075-Q11     99.95\n",
       "AD116D0KO-J11     99.95\n",
       "QU124G066-Q11     15.99\n",
       "AD116D0JE-A11     54.95\n",
       "A0F24K01I-Q11     43.95\n",
       "AD116D0K2-C11     89.95\n",
       "GP024G0EL-G11     12.95\n",
       "NI114D0AA-G11     54.95\n",
       "NI114D0AD-Q11     89.95\n",
       "                  ...  \n",
       "WO816D007-M11     89.95\n",
       "WO816D00M-M11     74.95\n",
       "GP084B04P-T11     34.95\n",
       "S1584A013-K11     39.95\n",
       "TEB84B001-C11     27.95\n",
       "MOC84B02D-K11     21.95\n",
       "D2453M00F-K11     12.00\n",
       "N1423B08J-K11     34.99\n",
       "N1426G028-K11     19.99\n",
       "N1424C014-Q11     22.99\n",
       "N1423K022-J11     30.99\n",
       "N1423G094-J11     22.99\n",
       "N1424G09W-O11     29.99\n",
       "N1424G0AM-M11     24.99\n",
       "N1424A04M-K11     39.99\n",
       "N1424A04K-K11     39.99\n",
       "NOG23G00N-J11     24.99\n",
       "N1421J00A-G11     24.99\n",
       "N1426G02J-K11     17.99\n",
       "NA823J0D0-M11     19.99\n",
       "N1424G0AG-A11     19.99\n",
       "N1423F06X-Q11     39.99\n",
       "N1423F06R-G11     34.99\n",
       "P6824G08G-K11     19.99\n",
       "NX324D03C-K11     34.95\n",
       "N1426G028-A11     19.99\n",
       "N1423G08F-G11     22.99\n",
       "P6824G08E-G11     19.99\n",
       "N1422G000-O11     37.99\n",
       "N1422S000-C11     29.99\n",
       "Name: price.original, Length: 19945, dtype: float64"
      ]
     },
     "execution_count": 15,
     "metadata": {},
     "output_type": "execute_result"
    }
   ],
   "source": [
    "#Our data is still text. Convert prices into numbers.\n",
    "# your code\n",
    "df['price.original'] = df['price.original'].str.replace(' ','',regex=True)\n",
    "df['price.original'] = df['price.original'].str.replace('€','',regex=True)\n",
    "df['price.original'] = df['price.original'].str.replace(',','.',regex=True).astype(float)\n",
    "df['price.original']"
   ]
  },
  {
   "cell_type": "code",
   "execution_count": 16,
   "metadata": {},
   "outputs": [],
   "source": [
    "df['price.original'] = pd.to_numeric(df['price.original'],downcast='signed')"
   ]
  },
  {
   "cell_type": "code",
   "execution_count": 17,
   "metadata": {},
   "outputs": [
    {
     "data": {
      "text/plain": [
       "sku\n",
       "LT123A00U-C13    25.00\n",
       "LT123C00A-K12    28.00\n",
       "LT124C00H-K12    24.00\n",
       "NI114D095-G11    43.00\n",
       "NI114D0A8-K11    58.00\n",
       "AD116D0K3-Q11    18.00\n",
       "CO416A03L-802    25.00\n",
       "NI114D0AF-Q11    34.00\n",
       "LA224G01L-E14    17.00\n",
       "NI114D0A1-C11    38.00\n",
       "NI114F00V-C11    24.00\n",
       "LA213D01D-A11    21.00\n",
       "NI114D095-B11    58.00\n",
       "NI114D0A1-C12    38.00\n",
       "TO184A00H-A11    20.76\n",
       "LT124C00E-K16    29.00\n",
       "LT124A00W-C11    32.47\n",
       "ME143B008-I11    43.95\n",
       "AD124G02C-A11    22.45\n",
       "AD116D0GW-A11    39.00\n",
       "CO423G018-A11    10.49\n",
       "NI113D075-Q11    40.00\n",
       "AD116D0KO-J11    29.95\n",
       "QU124G066-Q11     8.00\n",
       "AD116D0JE-A11    35.72\n",
       "A0F24K01I-Q11    17.58\n",
       "AD116D0K2-C11    26.95\n",
       "GP024G0EL-G11     5.83\n",
       "NI114D0AA-G11    27.48\n",
       "NI114D0AD-Q11    72.00\n",
       "                 ...  \n",
       "WO816D007-M11    89.95\n",
       "WO816D00M-M11    74.95\n",
       "GP084B04P-T11    34.95\n",
       "S1584A013-K11    39.95\n",
       "TEB84B001-C11    27.95\n",
       "MOC84B02D-K11    21.95\n",
       "D2453M00F-K11    12.00\n",
       "N1423B08J-K11    34.99\n",
       "N1426G028-K11    19.99\n",
       "N1424C014-Q11    22.99\n",
       "N1423K022-J11    30.99\n",
       "N1423G094-J11    22.99\n",
       "N1424G09W-O11    29.99\n",
       "N1424G0AM-M11    24.99\n",
       "N1424A04M-K11    39.99\n",
       "N1424A04K-K11    39.99\n",
       "NOG23G00N-J11    24.99\n",
       "N1421J00A-G11    24.99\n",
       "N1426G02J-K11    17.99\n",
       "NA823J0D0-M11    19.99\n",
       "N1424G0AG-A11    19.99\n",
       "N1423F06X-Q11    39.99\n",
       "N1423F06R-G11    34.99\n",
       "P6824G08G-K11    19.99\n",
       "NX324D03C-K11    34.95\n",
       "N1426G028-A11    19.99\n",
       "N1423G08F-G11    22.99\n",
       "P6824G08E-G11    19.99\n",
       "N1422G000-O11    37.99\n",
       "N1422S000-C11    29.99\n",
       "Name: price.promotional, Length: 19945, dtype: float64"
      ]
     },
     "execution_count": 17,
     "metadata": {},
     "output_type": "execute_result"
    }
   ],
   "source": [
    "df['price.promotional'] = df['price.promotional'].str.replace('€','',regex=True)\n",
    "df['price.promotional'] = df['price.promotional'].str.replace(',','.',regex=True)\n",
    "df['price.promotional'] = df['price.promotional'].str.replace(' ','',regex=True).astype(float)\n",
    "df['price.promotional']"
   ]
  },
  {
   "cell_type": "code",
   "execution_count": 19,
   "metadata": {},
   "outputs": [],
   "source": [
    "df['price.promotional'] = pd.to_numeric(df['price.promotional'],downcast='signed')"
   ]
  },
  {
   "cell_type": "code",
   "execution_count": 20,
   "metadata": {},
   "outputs": [
    {
     "data": {
      "text/plain": [
       "sku\n",
       "LT123A00U-C13    25.00\n",
       "LT123C00A-K12    28.00\n",
       "LT124C00H-K12    24.00\n",
       "NI114D095-G11    43.00\n",
       "NI114D0A8-K11    58.00\n",
       "AD116D0K3-Q11    18.00\n",
       "CO416A03L-802    25.00\n",
       "NI114D0AF-Q11    34.00\n",
       "LA224G01L-E14    17.00\n",
       "NI114D0A1-C11    38.00\n",
       "NI114F00V-C11    24.00\n",
       "LA213D01D-A11    21.00\n",
       "NI114D095-B11    58.00\n",
       "NI114D0A1-C12    38.00\n",
       "TO184A00H-A11    20.76\n",
       "LT124C00E-K16    29.00\n",
       "LT124A00W-C11    32.47\n",
       "ME143B008-I11    43.95\n",
       "AD124G02C-A11    22.45\n",
       "AD116D0GW-A11    39.00\n",
       "CO423G018-A11    10.49\n",
       "NI113D075-Q11    40.00\n",
       "AD116D0KO-J11    29.95\n",
       "QU124G066-Q11     8.00\n",
       "AD116D0JE-A11    35.72\n",
       "A0F24K01I-Q11    17.58\n",
       "AD116D0K2-C11    26.95\n",
       "GP024G0EL-G11     5.83\n",
       "NI114D0AA-G11    27.48\n",
       "NI114D0AD-Q11    72.00\n",
       "                 ...  \n",
       "WO816D007-M11    89.95\n",
       "WO816D00M-M11    74.95\n",
       "GP084B04P-T11    34.95\n",
       "S1584A013-K11    39.95\n",
       "TEB84B001-C11    27.95\n",
       "MOC84B02D-K11    21.95\n",
       "D2453M00F-K11    12.00\n",
       "N1423B08J-K11    34.99\n",
       "N1426G028-K11    19.99\n",
       "N1424C014-Q11    22.99\n",
       "N1423K022-J11    30.99\n",
       "N1423G094-J11    22.99\n",
       "N1424G09W-O11    29.99\n",
       "N1424G0AM-M11    24.99\n",
       "N1424A04M-K11    39.99\n",
       "N1424A04K-K11    39.99\n",
       "NOG23G00N-J11    24.99\n",
       "N1421J00A-G11    24.99\n",
       "N1426G02J-K11    17.99\n",
       "NA823J0D0-M11    19.99\n",
       "N1424G0AG-A11    19.99\n",
       "N1423F06X-Q11    39.99\n",
       "N1423F06R-G11    34.99\n",
       "P6824G08G-K11    19.99\n",
       "NX324D03C-K11    34.95\n",
       "N1426G028-A11    19.99\n",
       "N1423G08F-G11    22.99\n",
       "P6824G08E-G11    19.99\n",
       "N1422G000-O11    37.99\n",
       "N1422S000-C11    29.99\n",
       "Name: price.promotional, Length: 19945, dtype: float64"
      ]
     },
     "execution_count": 20,
     "metadata": {},
     "output_type": "execute_result"
    }
   ],
   "source": [
    "df['price.promotional']"
   ]
  },
  {
   "cell_type": "code",
   "execution_count": 21,
   "metadata": {},
   "outputs": [],
   "source": [
    "df['discount'] = df['price.original'] - df['price.promotional']"
   ]
  },
  {
   "cell_type": "code",
   "execution_count": 22,
   "metadata": {},
   "outputs": [
    {
     "data": {
      "text/html": [
       "<div>\n",
       "<style scoped>\n",
       "    .dataframe tbody tr th:only-of-type {\n",
       "        vertical-align: middle;\n",
       "    }\n",
       "\n",
       "    .dataframe tbody tr th {\n",
       "        vertical-align: top;\n",
       "    }\n",
       "\n",
       "    .dataframe thead th {\n",
       "        text-align: right;\n",
       "    }\n",
       "</style>\n",
       "<table border=\"1\" class=\"dataframe\">\n",
       "  <thead>\n",
       "    <tr style=\"text-align: right;\">\n",
       "      <th></th>\n",
       "      <th>discount</th>\n",
       "    </tr>\n",
       "    <tr>\n",
       "      <th>brand_name</th>\n",
       "      <th></th>\n",
       "    </tr>\n",
       "  </thead>\n",
       "  <tbody>\n",
       "    <tr>\n",
       "      <th>Friboo</th>\n",
       "      <td>8920.21</td>\n",
       "    </tr>\n",
       "  </tbody>\n",
       "</table>\n",
       "</div>"
      ],
      "text/plain": [
       "            discount\n",
       "brand_name          \n",
       "Friboo       8920.21"
      ]
     },
     "execution_count": 22,
     "metadata": {},
     "output_type": "execute_result"
    }
   ],
   "source": [
    "pivot_discount = pd.pivot_table(df, values=['discount'], \n",
    "                                index=['brand_name'], \n",
    "                                aggfunc=np.sum).sort_values(by='discount',\n",
    "                                                            ascending=False)\n",
    "pivot_discount.head(1)"
   ]
  },
  {
   "cell_type": "markdown",
   "metadata": {},
   "source": [
    "#### Display the brands without discount at all"
   ]
  },
  {
   "cell_type": "markdown",
   "metadata": {},
   "source": [
    "Esto es el equivalente a la \"WHERE\" clause en SQL. Los primeros corchetes son el SELECT, el .loc es el 'WHERE' y lo que hay dentro de los corchetes es la condición."
   ]
  },
  {
   "cell_type": "code",
   "execution_count": 23,
   "metadata": {},
   "outputs": [],
   "source": [
    "pivot_not_discounted = pivot_discount[['discount']].loc[pivot_discount['discount'] == 0]"
   ]
  },
  {
   "cell_type": "code",
   "execution_count": 24,
   "metadata": {},
   "outputs": [
    {
     "data": {
      "text/html": [
       "<div>\n",
       "<style scoped>\n",
       "    .dataframe tbody tr th:only-of-type {\n",
       "        vertical-align: middle;\n",
       "    }\n",
       "\n",
       "    .dataframe tbody tr th {\n",
       "        vertical-align: top;\n",
       "    }\n",
       "\n",
       "    .dataframe thead th {\n",
       "        text-align: right;\n",
       "    }\n",
       "</style>\n",
       "<table border=\"1\" class=\"dataframe\">\n",
       "  <thead>\n",
       "    <tr style=\"text-align: right;\">\n",
       "      <th></th>\n",
       "      <th>discount</th>\n",
       "    </tr>\n",
       "    <tr>\n",
       "      <th>brand_name</th>\n",
       "      <th></th>\n",
       "    </tr>\n",
       "  </thead>\n",
       "  <tbody>\n",
       "    <tr>\n",
       "      <th>Teva</th>\n",
       "      <td>0.0</td>\n",
       "    </tr>\n",
       "  </tbody>\n",
       "</table>\n",
       "</div>"
      ],
      "text/plain": [
       "            discount\n",
       "brand_name          \n",
       "Teva             0.0"
      ]
     },
     "execution_count": 24,
     "metadata": {},
     "output_type": "execute_result"
    }
   ],
   "source": [
    "pivot_not_discounted.head()"
   ]
  }
 ],
 "metadata": {
  "kernelspec": {
   "display_name": "Python 3",
   "language": "python",
   "name": "python3"
  },
  "language_info": {
   "codemirror_mode": {
    "name": "ipython",
    "version": 3
   },
   "file_extension": ".py",
   "mimetype": "text/x-python",
   "name": "python",
   "nbconvert_exporter": "python",
   "pygments_lexer": "ipython3",
   "version": "3.6.7"
  }
 },
 "nbformat": 4,
 "nbformat_minor": 2
}
