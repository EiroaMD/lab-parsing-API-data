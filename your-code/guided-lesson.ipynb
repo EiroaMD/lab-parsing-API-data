{
 "cells": [
  {
   "cell_type": "markdown",
   "metadata": {},
   "source": [
    "# Parsing APIs Example"
   ]
  },
  {
   "cell_type": "markdown",
   "metadata": {},
   "source": [
    "## Intro\n",
    "\n",
    "Now we will take a look on a real data. When you parse data from web you will often meet API based web-pages. \n",
    "\n",
    "For example [zalando.fr](https://www.zalando.fr/accueil-homme/) is API based web-page. \n",
    "\n",
    "In this guided lab you will learn how to obtain the links from webpages and extract the data. Read through this doc, execute the cells in order and make sure you understand the explanations. \n",
    "\n",
    "*Note: This guided lab uses Google Chrome. Other browsers like Safari and Firefox have similar tools for developers but they work differently. To save your time in following this lab, it is strongly recommended that you install and use Google Chrome.*"
   ]
  },
  {
   "cell_type": "markdown",
   "metadata": {},
   "source": [
    "## Obtaining the link\n",
    "\n",
    "Zalando is discount e-store where you can buy clothes and accesories with discount. When we go to the web-page, we can choose different sections. First the general process will be shown using [Children section](https://www.zalando.fr/accueil-enfant/) as example.\n",
    "\n",
    "Here we will parse data about promotions only. Therefore, final output will be the DataFrame with all the goods under discount.\n",
    "\n",
    "[![Image from Gyazo](https://i.gyazo.com/fa4874d8e81c7570273bbfb853d66308.png)](https://gyazo.com/fa4874d8e81c7570273bbfb853d66308)\n",
    "\n",
    "\n",
    "We go to Promos page. Right click of mouse shows us a list of actions possible, from which we select Inspect.\n",
    "\n",
    "<img src='https://i.gyazo.com/bccbd11d69c9040dc98758d443e32052.png' width=\"400\">\n",
    "\n",
    "\n",
    "You will see the menu dropdown on the right side or on the bottom of the window. There you should click on Network:\n",
    "\n",
    "\n",
    "[![Image from Gyazo](https://i.gyazo.com/f7e0db81cbfee67694183d1a7640bf81.png)](https://gyazo.com/f7e0db81cbfee67694183d1a7640bf81)"
   ]
  },
  {
   "cell_type": "markdown",
   "metadata": {},
   "source": [
    "Right after the developer part will change showing the files behind the page. In order to obtain only useful files we select the following settings:\n",
    "1. Preserve Log\n",
    "2. Select XHR files.\n",
    "\n",
    "[![Image from Gyazo](https://i.gyazo.com/9a899d4441d9d93e795f79747f1e47d5.png)](https://gyazo.com/9a899d4441d9d93e795f79747f1e47d5)\n",
    "\n",
    "In order to obtain some files we need to scrool down and go forward to second page. \n",
    "\n",
    "[![Image from Gyazo](https://i.gyazo.com/0956eb3d5125075a236c9a439c7749c7.png)](https://gyazo.com/0956eb3d5125075a236c9a439c7749c7)\n",
    "\n",
    "In the Network panel you can see the following files being uploaded. All the data on the web-page is uploaded from the json file, which is one of the following. It is important to understand which file contains what kind of information. \n",
    "\n",
    "<a href=\"https://gyazo.com/cf97a655869f0b22df0ada1cb2a41c3c\"><img src=\"https://i.gyazo.com/cf97a655869f0b22df0ada1cb2a41c3c.png\" alt=\"Image from Gyazo\" width=\"724.8\"/></a>\n",
    "\n",
    "When you find what kind of information you need for the data to be uploaded you just test it. Here we need the article... file:\n",
    "\n",
    "<a href=\"https://gyazo.com/78b35bf492994b3f35c0564a21da202a\"><img src=\"https://i.gyazo.com/78b35bf492994b3f35c0564a21da202a.png\" alt=\"Image from Gyazo\" width=\"727.2\"/></a>\n",
    "\n",
    "When we test the link in Chrome inkognito mode we obtain the proper json file:\n",
    "\n",
    "\n",
    "<a href=\"https://gyazo.com/b60453fa98454fa29771c731a5174443\"><img src=\"https://i.gyazo.com/b60453fa98454fa29771c731a5174443.png\" alt=\"Image from Gyazo\" width=\"1530.4\"/></a>"
   ]
  },
  {
   "cell_type": "markdown",
   "metadata": {},
   "source": [
    "In order to change the objects in the json file (kind of pagination), you need to change the offset (the number of the first element on the page). in fact, if you take a look on the link, it is easy to unerstand the structure of the link.\n",
    "\n",
    "# Reading the data\n",
    "\n",
    "Now the party rocks! When we know how can we obtain the data, it is not a problem to obtain the whole database with all the data from the web-page.\n",
    "In this lab you will collect your database of Zalando products. You select which goods you want to track. You can define as many filters to your data as you want. Just make sure that the data represents the filters.\n",
    "\n",
    "\n"
   ]
  },
  {
   "cell_type": "code",
   "execution_count": 1,
   "metadata": {},
   "outputs": [],
   "source": [
    "import json\n",
    "import requests\n",
    "import numpy as np\n",
    "import pandas as pd\n",
    "from pandas.io.json import json_normalize"
   ]
  },
  {
   "cell_type": "code",
   "execution_count": 2,
   "metadata": {},
   "outputs": [],
   "source": [
    "# Paste the url you obtained for your data\n",
    "url='https://www.zalando.fr/api/catalog/articles?categories=promo-enfant&limit=84&offset=84&sort=sale'\n"
   ]
  },
  {
   "cell_type": "markdown",
   "metadata": {},
   "source": [
    "#### Collect first 84 object of the of the data (1st page)\n",
    "\n",
    "Your output should be a Pandas DataFrame of goods. Each row should contain only text or numbers, having *family_articles, flags, media* and *sizes* remaining lists (they are exceptions). Hint: use the headers parameter to get the data!"
   ]
  },
  {
   "cell_type": "code",
   "execution_count": 3,
   "metadata": {},
   "outputs": [],
   "source": [
    "# headers definition\n",
    "headers = {'user-agent': 'Mozilla/5.0 (X11; Linux x86_64) AppleWebKit/537.36 (KHTML, like Gecko) Ubuntu Chromium/75.0.3770.90 Chrome/75.0.3770.90 Safari/537.36'}"
   ]
  },
  {
   "cell_type": "code",
   "execution_count": 4,
   "metadata": {},
   "outputs": [],
   "source": [
    "# Your code\n",
    "response = requests.get(url, headers = headers)\n",
    "results = response.json()"
   ]
  },
  {
   "cell_type": "code",
   "execution_count": 5,
   "metadata": {},
   "outputs": [
    {
     "data": {
      "text/html": [
       "<div>\n",
       "<style scoped>\n",
       "    .dataframe tbody tr th:only-of-type {\n",
       "        vertical-align: middle;\n",
       "    }\n",
       "\n",
       "    .dataframe tbody tr th {\n",
       "        vertical-align: top;\n",
       "    }\n",
       "\n",
       "    .dataframe thead th {\n",
       "        text-align: right;\n",
       "    }\n",
       "</style>\n",
       "<table border=\"1\" class=\"dataframe\">\n",
       "  <thead>\n",
       "    <tr style=\"text-align: right;\">\n",
       "      <th></th>\n",
       "      <th>articles</th>\n",
       "      <th>articlesToShow</th>\n",
       "      <th>breadcrumbs</th>\n",
       "      <th>carouselTeaser</th>\n",
       "      <th>categoryTree</th>\n",
       "      <th>collection</th>\n",
       "      <th>contentPositions.entry-point-teasers</th>\n",
       "      <th>contentPositions.in-cat-carousel</th>\n",
       "      <th>contentPositions.in-cat-carousel-fullwidth</th>\n",
       "      <th>contentPositions.in-cat-carousel-mobile</th>\n",
       "      <th>...</th>\n",
       "      <th>total_article_count</th>\n",
       "      <th>total_count</th>\n",
       "      <th>upperInCatTeaser</th>\n",
       "      <th>variants.fullWidthCatalog</th>\n",
       "      <th>variants.hideCategories</th>\n",
       "      <th>variants.mobileLightFilters</th>\n",
       "      <th>variants.myBrandsFilter</th>\n",
       "      <th>variants.outwardTeaserCard</th>\n",
       "      <th>variants.premiumCatalog</th>\n",
       "      <th>wishlist</th>\n",
       "    </tr>\n",
       "  </thead>\n",
       "  <tbody>\n",
       "    <tr>\n",
       "      <th>0</th>\n",
       "      <td>[{'sku': 'NI114F002-A13', 'name': 'FORCE 1 18 ...</td>\n",
       "      <td>84</td>\n",
       "      <td>[{'items': [{'label': 'Enfant', 'url_key': 'en...</td>\n",
       "      <td>None</td>\n",
       "      <td>[{'label': 'Promotions', 'id': '9574', 'url_ke...</td>\n",
       "      <td>None</td>\n",
       "      <td>[7, 14, 20, 26]</td>\n",
       "      <td>9</td>\n",
       "      <td>8</td>\n",
       "      <td>6</td>\n",
       "      <td>...</td>\n",
       "      <td>20271</td>\n",
       "      <td>20275</td>\n",
       "      <td>None</td>\n",
       "      <td>False</td>\n",
       "      <td>False</td>\n",
       "      <td>False</td>\n",
       "      <td>True</td>\n",
       "      <td>False</td>\n",
       "      <td>False</td>\n",
       "      <td>None</td>\n",
       "    </tr>\n",
       "  </tbody>\n",
       "</table>\n",
       "<p>1 rows × 147 columns</p>\n",
       "</div>"
      ],
      "text/plain": [
       "                                            articles  articlesToShow  \\\n",
       "0  [{'sku': 'NI114F002-A13', 'name': 'FORCE 1 18 ...              84   \n",
       "\n",
       "                                         breadcrumbs carouselTeaser  \\\n",
       "0  [{'items': [{'label': 'Enfant', 'url_key': 'en...           None   \n",
       "\n",
       "                                        categoryTree collection  \\\n",
       "0  [{'label': 'Promotions', 'id': '9574', 'url_ke...       None   \n",
       "\n",
       "  contentPositions.entry-point-teasers  contentPositions.in-cat-carousel  \\\n",
       "0                      [7, 14, 20, 26]                                 9   \n",
       "\n",
       "   contentPositions.in-cat-carousel-fullwidth  \\\n",
       "0                                           8   \n",
       "\n",
       "   contentPositions.in-cat-carousel-mobile  ...  total_article_count  \\\n",
       "0                                        6  ...                20271   \n",
       "\n",
       "   total_count upperInCatTeaser variants.fullWidthCatalog  \\\n",
       "0        20275             None                     False   \n",
       "\n",
       "  variants.hideCategories variants.mobileLightFilters variants.myBrandsFilter  \\\n",
       "0                   False                       False                    True   \n",
       "\n",
       "  variants.outwardTeaserCard  variants.premiumCatalog wishlist  \n",
       "0                      False                    False     None  \n",
       "\n",
       "[1 rows x 147 columns]"
      ]
     },
     "execution_count": 5,
     "metadata": {},
     "output_type": "execute_result"
    }
   ],
   "source": [
    "flattened_data = json_normalize(results)\n",
    "flattened_data.head()"
   ]
  },
  {
   "cell_type": "code",
   "execution_count": 6,
   "metadata": {},
   "outputs": [
    {
     "data": {
      "text/html": [
       "<div>\n",
       "<style scoped>\n",
       "    .dataframe tbody tr th:only-of-type {\n",
       "        vertical-align: middle;\n",
       "    }\n",
       "\n",
       "    .dataframe tbody tr th {\n",
       "        vertical-align: top;\n",
       "    }\n",
       "\n",
       "    .dataframe thead th {\n",
       "        text-align: right;\n",
       "    }\n",
       "</style>\n",
       "<table border=\"1\" class=\"dataframe\">\n",
       "  <thead>\n",
       "    <tr style=\"text-align: right;\">\n",
       "      <th></th>\n",
       "      <th>brand_name</th>\n",
       "      <th>family_articles</th>\n",
       "      <th>flags</th>\n",
       "      <th>is_premium</th>\n",
       "      <th>media</th>\n",
       "      <th>name</th>\n",
       "      <th>price.has_different_original_prices</th>\n",
       "      <th>price.has_different_prices</th>\n",
       "      <th>price.has_different_promotional_prices</th>\n",
       "      <th>price.has_discount_on_selected_sizes_only</th>\n",
       "      <th>price.original</th>\n",
       "      <th>price.promotional</th>\n",
       "      <th>product_group</th>\n",
       "      <th>sizes</th>\n",
       "      <th>sku</th>\n",
       "      <th>url_key</th>\n",
       "    </tr>\n",
       "  </thead>\n",
       "  <tbody>\n",
       "    <tr>\n",
       "      <th>0</th>\n",
       "      <td>Nike Sportswear</td>\n",
       "      <td>[{'sku': 'NI114F002-A13', 'url_key': 'nike-spo...</td>\n",
       "      <td>[{'key': 'discountRate', 'value': '-30%', 'tra...</td>\n",
       "      <td>False</td>\n",
       "      <td>[{'path': 'NI/11/4F/00/2A/13/NI114F002-A13@5.j...</td>\n",
       "      <td>FORCE 1 18 - Chaussures premiers pas - white/i...</td>\n",
       "      <td>False</td>\n",
       "      <td>False</td>\n",
       "      <td>False</td>\n",
       "      <td>False</td>\n",
       "      <td>49,95 €</td>\n",
       "      <td>35,00 €</td>\n",
       "      <td>shoe</td>\n",
       "      <td>[19.5, 23.5, 25, 26, 27]</td>\n",
       "      <td>NI114F002-A13</td>\n",
       "      <td>nike-sportswear-force-1-18-baskets-basses-ni11...</td>\n",
       "    </tr>\n",
       "    <tr>\n",
       "      <th>1</th>\n",
       "      <td>MOSCHINO</td>\n",
       "      <td>[{'sku': '6MO24K008-K11', 'url_key': 'moschino...</td>\n",
       "      <td>[{'key': 'discountRate', 'value': '-70%', 'tra...</td>\n",
       "      <td>True</td>\n",
       "      <td>[{'path': '6M/O2/4K/00/8K/11/6MO24K008-K11@7.j...</td>\n",
       "      <td>HOODED - Sweatshirt - baya blue maramao</td>\n",
       "      <td>False</td>\n",
       "      <td>True</td>\n",
       "      <td>True</td>\n",
       "      <td>False</td>\n",
       "      <td>159,95 €</td>\n",
       "      <td>47,95 €</td>\n",
       "      <td>clothing</td>\n",
       "      <td>[4a, 6a, 8a, 10a, 12a, 14a]</td>\n",
       "      <td>6MO24K008-K11</td>\n",
       "      <td>moschino-hooded-sweatshirt-baya-blue-maramao-6...</td>\n",
       "    </tr>\n",
       "    <tr>\n",
       "      <th>2</th>\n",
       "      <td>Nike Performance</td>\n",
       "      <td>[{'sku': 'N1243G09X-Q11', 'url_key': 'nike-per...</td>\n",
       "      <td>[{'key': 'discountRate', 'value': 'Jusqu’à -45...</td>\n",
       "      <td>False</td>\n",
       "      <td>[{'path': 'N1/24/3G/09/XQ/11/N1243G09X-Q11@4.j...</td>\n",
       "      <td>veste en sweat zippée - black/sail/university ...</td>\n",
       "      <td>False</td>\n",
       "      <td>True</td>\n",
       "      <td>True</td>\n",
       "      <td>False</td>\n",
       "      <td>54,95 €</td>\n",
       "      <td>29,95 €</td>\n",
       "      <td>clothing</td>\n",
       "      <td>[6-8a, 8-10a, 10-12a, 12-13a, 13-15a]</td>\n",
       "      <td>N1243G09X-Q11</td>\n",
       "      <td>nike-performance-air-hoodie-veste-en-sweat-zip...</td>\n",
       "    </tr>\n",
       "    <tr>\n",
       "      <th>3</th>\n",
       "      <td>Nike Sportswear</td>\n",
       "      <td>[{'sku': 'NI114D05L-A12', 'url_key': 'nike-spo...</td>\n",
       "      <td>[{'key': 'discountRate', 'value': 'Jusqu’à -30...</td>\n",
       "      <td>False</td>\n",
       "      <td>[{'path': 'NI/11/4D/05/LA/12/NI114D05L-A12@12....</td>\n",
       "      <td>COURT ROYALE (PSV) - Baskets basses - white</td>\n",
       "      <td>False</td>\n",
       "      <td>True</td>\n",
       "      <td>True</td>\n",
       "      <td>False</td>\n",
       "      <td>39,95 €</td>\n",
       "      <td>28,00 €</td>\n",
       "      <td>shoe</td>\n",
       "      <td>[27.5, 28.5, 29.5, 30, 31, 31.5, 32, 33, 33.5,...</td>\n",
       "      <td>NI114D05L-A12</td>\n",
       "      <td>nike-sportswear-court-royale-baskets-basses-ni...</td>\n",
       "    </tr>\n",
       "    <tr>\n",
       "      <th>4</th>\n",
       "      <td>Re-Gen</td>\n",
       "      <td>[{'sku': 'RG524K00Q-K11', 'url_key': 're-gen-t...</td>\n",
       "      <td>[{'key': 'discountRate', 'value': '-70%', 'tra...</td>\n",
       "      <td>False</td>\n",
       "      <td>[{'path': 'RG/52/4K/00/QK/11/RG524K00Q-K11@5.j...</td>\n",
       "      <td>TEENS  - Pullover - blue nights</td>\n",
       "      <td>False</td>\n",
       "      <td>False</td>\n",
       "      <td>False</td>\n",
       "      <td>False</td>\n",
       "      <td>29,95 €</td>\n",
       "      <td>9,00 €</td>\n",
       "      <td>clothing</td>\n",
       "      <td>[10a, 12a, 14a, 16a]</td>\n",
       "      <td>RG524K00Q-K11</td>\n",
       "      <td>re-gen-teens-pullover-blue-nights-rg524k00q-k11</td>\n",
       "    </tr>\n",
       "  </tbody>\n",
       "</table>\n",
       "</div>"
      ],
      "text/plain": [
       "         brand_name                                    family_articles  \\\n",
       "0   Nike Sportswear  [{'sku': 'NI114F002-A13', 'url_key': 'nike-spo...   \n",
       "1          MOSCHINO  [{'sku': '6MO24K008-K11', 'url_key': 'moschino...   \n",
       "2  Nike Performance  [{'sku': 'N1243G09X-Q11', 'url_key': 'nike-per...   \n",
       "3   Nike Sportswear  [{'sku': 'NI114D05L-A12', 'url_key': 'nike-spo...   \n",
       "4            Re-Gen  [{'sku': 'RG524K00Q-K11', 'url_key': 're-gen-t...   \n",
       "\n",
       "                                               flags  is_premium  \\\n",
       "0  [{'key': 'discountRate', 'value': '-30%', 'tra...       False   \n",
       "1  [{'key': 'discountRate', 'value': '-70%', 'tra...        True   \n",
       "2  [{'key': 'discountRate', 'value': 'Jusqu’à -45...       False   \n",
       "3  [{'key': 'discountRate', 'value': 'Jusqu’à -30...       False   \n",
       "4  [{'key': 'discountRate', 'value': '-70%', 'tra...       False   \n",
       "\n",
       "                                               media  \\\n",
       "0  [{'path': 'NI/11/4F/00/2A/13/NI114F002-A13@5.j...   \n",
       "1  [{'path': '6M/O2/4K/00/8K/11/6MO24K008-K11@7.j...   \n",
       "2  [{'path': 'N1/24/3G/09/XQ/11/N1243G09X-Q11@4.j...   \n",
       "3  [{'path': 'NI/11/4D/05/LA/12/NI114D05L-A12@12....   \n",
       "4  [{'path': 'RG/52/4K/00/QK/11/RG524K00Q-K11@5.j...   \n",
       "\n",
       "                                                name  \\\n",
       "0  FORCE 1 18 - Chaussures premiers pas - white/i...   \n",
       "1            HOODED - Sweatshirt - baya blue maramao   \n",
       "2  veste en sweat zippée - black/sail/university ...   \n",
       "3        COURT ROYALE (PSV) - Baskets basses - white   \n",
       "4                    TEENS  - Pullover - blue nights   \n",
       "\n",
       "   price.has_different_original_prices  price.has_different_prices  \\\n",
       "0                                False                       False   \n",
       "1                                False                        True   \n",
       "2                                False                        True   \n",
       "3                                False                        True   \n",
       "4                                False                       False   \n",
       "\n",
       "   price.has_different_promotional_prices  \\\n",
       "0                                   False   \n",
       "1                                    True   \n",
       "2                                    True   \n",
       "3                                    True   \n",
       "4                                   False   \n",
       "\n",
       "   price.has_discount_on_selected_sizes_only price.original price.promotional  \\\n",
       "0                                      False        49,95 €           35,00 €   \n",
       "1                                      False       159,95 €           47,95 €   \n",
       "2                                      False        54,95 €           29,95 €   \n",
       "3                                      False        39,95 €           28,00 €   \n",
       "4                                      False        29,95 €            9,00 €   \n",
       "\n",
       "  product_group                                              sizes  \\\n",
       "0          shoe                           [19.5, 23.5, 25, 26, 27]   \n",
       "1      clothing                        [4a, 6a, 8a, 10a, 12a, 14a]   \n",
       "2      clothing              [6-8a, 8-10a, 10-12a, 12-13a, 13-15a]   \n",
       "3          shoe  [27.5, 28.5, 29.5, 30, 31, 31.5, 32, 33, 33.5,...   \n",
       "4      clothing                               [10a, 12a, 14a, 16a]   \n",
       "\n",
       "             sku                                            url_key  \n",
       "0  NI114F002-A13  nike-sportswear-force-1-18-baskets-basses-ni11...  \n",
       "1  6MO24K008-K11  moschino-hooded-sweatshirt-baya-blue-maramao-6...  \n",
       "2  N1243G09X-Q11  nike-performance-air-hoodie-veste-en-sweat-zip...  \n",
       "3  NI114D05L-A12  nike-sportswear-court-royale-baskets-basses-ni...  \n",
       "4  RG524K00Q-K11    re-gen-teens-pullover-blue-nights-rg524k00q-k11  "
      ]
     },
     "execution_count": 6,
     "metadata": {},
     "output_type": "execute_result"
    }
   ],
   "source": [
    "articles = json_normalize(flattened_data.articles[0])\n",
    "articles.head()"
   ]
  },
  {
   "cell_type": "markdown",
   "metadata": {},
   "source": [
    "#### Collect all the objects from selected filters. Total number of pages can be found in the same json. Use *sku* column as index.\n",
    "\n",
    "Your output should be a Pandas DataFrame of goods. Each row should contain only text or numbers, having family_articles, flags, media and sizes remaining lists (they are exceptions)."
   ]
  },
  {
   "cell_type": "code",
   "execution_count": 7,
   "metadata": {},
   "outputs": [
    {
     "name": "stderr",
     "output_type": "stream",
     "text": [
      "/home/eiroamd/.local/lib/python3.6/site-packages/pandas/core/frame.py:6692: FutureWarning: Sorting because non-concatenation axis is not aligned. A future version\n",
      "of pandas will change to not sort by default.\n",
      "\n",
      "To accept the future behavior, pass 'sort=False'.\n",
      "\n",
      "To retain the current behavior and silence the warning, pass 'sort=True'.\n",
      "\n",
      "  sort=sort)\n"
     ]
    }
   ],
   "source": [
    "# Get the total number of pages\n",
    "total_pages = results['pagination']['page_count']\n",
    "\n",
    "df = pd.DataFrame()\n",
    "for i in range(total_pages):\n",
    "    art_per_page = i*84\n",
    "    url_loop = 'https://www.zalando.fr/api/catalog/articles?categories=promo-enfant&limit=84&offset='+str(art_per_page)+'&sort=sale'\n",
    "    results_loop = requests.get(url_loop, headers = headers).json()\n",
    "    flattened_data_loop = json_normalize(results_loop)\n",
    "    articles_loop = json_normalize(flattened_data_loop.articles[0])\n",
    "    df = df.append(articles_loop)"
   ]
  },
  {
   "cell_type": "code",
   "execution_count": 8,
   "metadata": {},
   "outputs": [],
   "source": [
    "df= df.set_index('sku')"
   ]
  },
  {
   "cell_type": "code",
   "execution_count": 9,
   "metadata": {},
   "outputs": [
    {
     "data": {
      "text/plain": [
       "(20272, 19)"
      ]
     },
     "execution_count": 9,
     "metadata": {},
     "output_type": "execute_result"
    }
   ],
   "source": [
    "df.shape"
   ]
  },
  {
   "cell_type": "markdown",
   "metadata": {},
   "source": [
    "#### Display the trending brand in DataFrame"
   ]
  },
  {
   "cell_type": "code",
   "execution_count": 10,
   "metadata": {},
   "outputs": [
    {
     "data": {
      "text/plain": [
       "Friboo    855\n",
       "Name: brand_name, dtype: int64"
      ]
     },
     "execution_count": 10,
     "metadata": {},
     "output_type": "execute_result"
    }
   ],
   "source": [
    "# your code\n",
    "df['brand_name'].value_counts().head(1)"
   ]
  },
  {
   "cell_type": "markdown",
   "metadata": {},
   "source": [
    "#### Display the brand with maximal total discount (sum of discounts on all goods)"
   ]
  },
  {
   "cell_type": "code",
   "execution_count": 11,
   "metadata": {},
   "outputs": [
    {
     "data": {
      "text/plain": [
       "sku\n",
       "N1243D11U-Q11     24.95\n",
       "NI114D09A-Q13    149.95\n",
       "N1243L00A-Q11     34.95\n",
       "NI114F00V-C11     59.95\n",
       "CO423G015-G11     28.95\n",
       "TO184A00H-A11     25.95\n",
       "CO423G018-A11     34.95\n",
       "NI114D0A1-C12     94.95\n",
       "F5713A032-J11     27.95\n",
       "AD116D0K3-Q11     59.95\n",
       "QU124C015-K11     25.99\n",
       "GP024G0EU-C11     16.95\n",
       "CO416A03L-802     39.95\n",
       "QU124G066-Q11     15.99\n",
       "N1243G022-Q11     34.95\n",
       "NI114D09A-K12    149.95\n",
       "N1243D0ZK-K11     49.95\n",
       "N1243K0B5-B11     34.95\n",
       "GP024G0F1-G11     14.95\n",
       "A0F23C00T-T11     23.95\n",
       "VA213D022-J11     49.95\n",
       "NI113D07J-A11     49.95\n",
       "NI114D03P-A11     54.95\n",
       "NI114D0AG-A11     69.95\n",
       "A0F24G03K-C11     14.95\n",
       "QU124K03P-G11     39.99\n",
       "CJ223C00P-J11     20.95\n",
       "NI114F009-A11     59.95\n",
       "NI114D057-Q11     29.95\n",
       "CO413F013-A11     44.95\n",
       "                  ...  \n",
       "N1423G087-A11     16.99\n",
       "N1424G0AE-C11     22.99\n",
       "N1421J00A-G11     24.99\n",
       "N1424C015-A11     16.99\n",
       "N1424G0AJ-K11     14.99\n",
       "N1423G08W-J11     14.99\n",
       "N1424G0AA-A11     12.99\n",
       "N1423F06S-J11     32.99\n",
       "N1423G08L-J11     22.99\n",
       "P6824G08E-G11     19.99\n",
       "N1423G08X-J12     17.99\n",
       "N1423G08I-K11     17.99\n",
       "NX324D03C-K11     34.95\n",
       "N1423F06N-J11     22.99\n",
       "N1423G089-A11     19.99\n",
       "N1426B02O-A11     22.99\n",
       "N1423G08X-J11     17.99\n",
       "N1426B02N-K11     18.99\n",
       "N1423F073-J11     29.99\n",
       "N1424G0AN-K11     14.99\n",
       "N1426K018-K11     29.99\n",
       "N1423J02P-J11     39.99\n",
       "N1426B028-O11     22.99\n",
       "N1422G000-O11     37.99\n",
       "N1426G01Y-O11     22.99\n",
       "N1426J00V-E11     34.99\n",
       "N1426A00I-K11     37.99\n",
       "N1422S000-C11     29.99\n",
       "N1424G0AO-J11     17.99\n",
       "N1486A00E-O11     16.99\n",
       "Name: price.original, Length: 20272, dtype: float64"
      ]
     },
     "execution_count": 11,
     "metadata": {},
     "output_type": "execute_result"
    }
   ],
   "source": [
    "#Our data is still text. Convert prices into numbers.\n",
    "# your code\n",
    "df['price.original'] = df['price.original'].str.replace(' ','',regex=True)\n",
    "df['price.original'] = df['price.original'].str.replace('€','',regex=True)\n",
    "df['price.original'] = df['price.original'].str.replace(',','.',regex=True).astype(float)\n",
    "df['price.original']"
   ]
  },
  {
   "cell_type": "code",
   "execution_count": 12,
   "metadata": {},
   "outputs": [],
   "source": [
    "df['price.original'] = pd.to_numeric(df['price.original'],downcast='signed')"
   ]
  },
  {
   "cell_type": "code",
   "execution_count": 13,
   "metadata": {},
   "outputs": [
    {
     "data": {
      "text/plain": [
       "sku\n",
       "N1243D11U-Q11     19.95\n",
       "NI114D09A-Q13     90.00\n",
       "N1243L00A-Q11     28.00\n",
       "NI114F00V-C11     24.00\n",
       "CO423G015-G11      8.70\n",
       "TO184A00H-A11     20.76\n",
       "CO423G018-A11     10.49\n",
       "NI114D0A1-C12     38.00\n",
       "F5713A032-J11     11.18\n",
       "AD116D0K3-Q11     18.00\n",
       "QU124C015-K11     13.00\n",
       "GP024G0EU-C11      5.10\n",
       "CO416A03L-802     37.30\n",
       "QU124G066-Q11      8.00\n",
       "N1243G022-Q11     22.70\n",
       "NI114D09A-K12    119.95\n",
       "N1243D0ZK-K11     24.95\n",
       "N1243K0B5-B11     22.70\n",
       "GP024G0F1-G11      4.50\n",
       "A0F23C00T-T11      7.19\n",
       "VA213D022-J11     40.00\n",
       "NI113D07J-A11     14.95\n",
       "NI114D03P-A11     27.48\n",
       "NI114D0AG-A11     49.00\n",
       "A0F24G03K-C11      5.23\n",
       "QU124K03P-G11     12.00\n",
       "CJ223C00P-J11      6.30\n",
       "NI114F009-A11     36.00\n",
       "NI114D057-Q11     24.00\n",
       "CO413F013-A11     31.46\n",
       "                  ...  \n",
       "N1423G087-A11     16.99\n",
       "N1424G0AE-C11     22.99\n",
       "N1421J00A-G11     24.99\n",
       "N1424C015-A11     16.99\n",
       "N1424G0AJ-K11     14.99\n",
       "N1423G08W-J11     14.99\n",
       "N1424G0AA-A11     12.99\n",
       "N1423F06S-J11     32.99\n",
       "N1423G08L-J11     22.99\n",
       "P6824G08E-G11     19.99\n",
       "N1423G08X-J12     17.99\n",
       "N1423G08I-K11     17.99\n",
       "NX324D03C-K11     34.95\n",
       "N1423F06N-J11     22.99\n",
       "N1423G089-A11     19.99\n",
       "N1426B02O-A11     22.99\n",
       "N1423G08X-J11     17.99\n",
       "N1426B02N-K11     18.99\n",
       "N1423F073-J11     29.99\n",
       "N1424G0AN-K11     14.99\n",
       "N1426K018-K11     29.99\n",
       "N1423J02P-J11     39.99\n",
       "N1426B028-O11     22.99\n",
       "N1422G000-O11     37.99\n",
       "N1426G01Y-O11     22.99\n",
       "N1426J00V-E11     34.99\n",
       "N1426A00I-K11     37.99\n",
       "N1422S000-C11     29.99\n",
       "N1424G0AO-J11     17.99\n",
       "N1486A00E-O11     16.99\n",
       "Name: price.promotional, Length: 20272, dtype: float64"
      ]
     },
     "execution_count": 13,
     "metadata": {},
     "output_type": "execute_result"
    }
   ],
   "source": [
    "df['price.promotional'] = df['price.promotional'].str.replace('€','',regex=True)\n",
    "df['price.promotional'] = df['price.promotional'].str.replace(',','.',regex=True)\n",
    "df['price.promotional'] = df['price.promotional'].str.replace(' ','',regex=True).astype(float)\n",
    "df['price.promotional']"
   ]
  },
  {
   "cell_type": "code",
   "execution_count": 14,
   "metadata": {},
   "outputs": [],
   "source": [
    "df['price.promotional'] = pd.to_numeric(df['price.promotional'],downcast='signed')"
   ]
  },
  {
   "cell_type": "code",
   "execution_count": 15,
   "metadata": {},
   "outputs": [
    {
     "data": {
      "text/plain": [
       "sku\n",
       "N1243D11U-Q11     19.95\n",
       "NI114D09A-Q13     90.00\n",
       "N1243L00A-Q11     28.00\n",
       "NI114F00V-C11     24.00\n",
       "CO423G015-G11      8.70\n",
       "TO184A00H-A11     20.76\n",
       "CO423G018-A11     10.49\n",
       "NI114D0A1-C12     38.00\n",
       "F5713A032-J11     11.18\n",
       "AD116D0K3-Q11     18.00\n",
       "QU124C015-K11     13.00\n",
       "GP024G0EU-C11      5.10\n",
       "CO416A03L-802     37.30\n",
       "QU124G066-Q11      8.00\n",
       "N1243G022-Q11     22.70\n",
       "NI114D09A-K12    119.95\n",
       "N1243D0ZK-K11     24.95\n",
       "N1243K0B5-B11     22.70\n",
       "GP024G0F1-G11      4.50\n",
       "A0F23C00T-T11      7.19\n",
       "VA213D022-J11     40.00\n",
       "NI113D07J-A11     14.95\n",
       "NI114D03P-A11     27.48\n",
       "NI114D0AG-A11     49.00\n",
       "A0F24G03K-C11      5.23\n",
       "QU124K03P-G11     12.00\n",
       "CJ223C00P-J11      6.30\n",
       "NI114F009-A11     36.00\n",
       "NI114D057-Q11     24.00\n",
       "CO413F013-A11     31.46\n",
       "                  ...  \n",
       "N1423G087-A11     16.99\n",
       "N1424G0AE-C11     22.99\n",
       "N1421J00A-G11     24.99\n",
       "N1424C015-A11     16.99\n",
       "N1424G0AJ-K11     14.99\n",
       "N1423G08W-J11     14.99\n",
       "N1424G0AA-A11     12.99\n",
       "N1423F06S-J11     32.99\n",
       "N1423G08L-J11     22.99\n",
       "P6824G08E-G11     19.99\n",
       "N1423G08X-J12     17.99\n",
       "N1423G08I-K11     17.99\n",
       "NX324D03C-K11     34.95\n",
       "N1423F06N-J11     22.99\n",
       "N1423G089-A11     19.99\n",
       "N1426B02O-A11     22.99\n",
       "N1423G08X-J11     17.99\n",
       "N1426B02N-K11     18.99\n",
       "N1423F073-J11     29.99\n",
       "N1424G0AN-K11     14.99\n",
       "N1426K018-K11     29.99\n",
       "N1423J02P-J11     39.99\n",
       "N1426B028-O11     22.99\n",
       "N1422G000-O11     37.99\n",
       "N1426G01Y-O11     22.99\n",
       "N1426J00V-E11     34.99\n",
       "N1426A00I-K11     37.99\n",
       "N1422S000-C11     29.99\n",
       "N1424G0AO-J11     17.99\n",
       "N1486A00E-O11     16.99\n",
       "Name: price.promotional, Length: 20272, dtype: float64"
      ]
     },
     "execution_count": 15,
     "metadata": {},
     "output_type": "execute_result"
    }
   ],
   "source": [
    "df['price.promotional']"
   ]
  },
  {
   "cell_type": "code",
   "execution_count": 16,
   "metadata": {},
   "outputs": [],
   "source": [
    "df['discount'] = df['price.original'] - df['price.promotional']"
   ]
  },
  {
   "cell_type": "code",
   "execution_count": 17,
   "metadata": {},
   "outputs": [
    {
     "data": {
      "text/html": [
       "<div>\n",
       "<style scoped>\n",
       "    .dataframe tbody tr th:only-of-type {\n",
       "        vertical-align: middle;\n",
       "    }\n",
       "\n",
       "    .dataframe tbody tr th {\n",
       "        vertical-align: top;\n",
       "    }\n",
       "\n",
       "    .dataframe thead th {\n",
       "        text-align: right;\n",
       "    }\n",
       "</style>\n",
       "<table border=\"1\" class=\"dataframe\">\n",
       "  <thead>\n",
       "    <tr style=\"text-align: right;\">\n",
       "      <th></th>\n",
       "      <th>discount</th>\n",
       "    </tr>\n",
       "    <tr>\n",
       "      <th>brand_name</th>\n",
       "      <th></th>\n",
       "    </tr>\n",
       "  </thead>\n",
       "  <tbody>\n",
       "    <tr>\n",
       "      <th>Friboo</th>\n",
       "      <td>9362.47</td>\n",
       "    </tr>\n",
       "  </tbody>\n",
       "</table>\n",
       "</div>"
      ],
      "text/plain": [
       "            discount\n",
       "brand_name          \n",
       "Friboo       9362.47"
      ]
     },
     "execution_count": 17,
     "metadata": {},
     "output_type": "execute_result"
    }
   ],
   "source": [
    "pivot_discount = pd.pivot_table(df, values=['discount'], \n",
    "                                index=['brand_name'], \n",
    "                                aggfunc=np.sum).sort_values(by='discount',\n",
    "                                                            ascending=False)\n",
    "pivot_discount.head(1)"
   ]
  },
  {
   "cell_type": "markdown",
   "metadata": {},
   "source": [
    "#### Display the brands without discount at all"
   ]
  },
  {
   "cell_type": "markdown",
   "metadata": {},
   "source": [
    "Esto es el equivalente a la \"WHERE\" clause en SQL. Los primeros corchetes son el SELECT, el .loc es el 'WHERE' y lo que hay dentro de los corchetes es la condición."
   ]
  },
  {
   "cell_type": "code",
   "execution_count": 18,
   "metadata": {},
   "outputs": [],
   "source": [
    "pivot_not_discounted = pivot_discount[['discount']].loc[pivot_discount['discount'] == 0]"
   ]
  },
  {
   "cell_type": "code",
   "execution_count": 19,
   "metadata": {},
   "outputs": [
    {
     "data": {
      "text/html": [
       "<div>\n",
       "<style scoped>\n",
       "    .dataframe tbody tr th:only-of-type {\n",
       "        vertical-align: middle;\n",
       "    }\n",
       "\n",
       "    .dataframe tbody tr th {\n",
       "        vertical-align: top;\n",
       "    }\n",
       "\n",
       "    .dataframe thead th {\n",
       "        text-align: right;\n",
       "    }\n",
       "</style>\n",
       "<table border=\"1\" class=\"dataframe\">\n",
       "  <thead>\n",
       "    <tr style=\"text-align: right;\">\n",
       "      <th></th>\n",
       "      <th>discount</th>\n",
       "    </tr>\n",
       "    <tr>\n",
       "      <th>brand_name</th>\n",
       "      <th></th>\n",
       "    </tr>\n",
       "  </thead>\n",
       "  <tbody>\n",
       "    <tr>\n",
       "      <th>Teva</th>\n",
       "      <td>0.0</td>\n",
       "    </tr>\n",
       "  </tbody>\n",
       "</table>\n",
       "</div>"
      ],
      "text/plain": [
       "            discount\n",
       "brand_name          \n",
       "Teva             0.0"
      ]
     },
     "execution_count": 19,
     "metadata": {},
     "output_type": "execute_result"
    }
   ],
   "source": [
    "pivot_not_discounted"
   ]
  }
 ],
 "metadata": {
  "kernelspec": {
   "display_name": "Python 3",
   "language": "python",
   "name": "python3"
  },
  "language_info": {
   "codemirror_mode": {
    "name": "ipython",
    "version": 3
   },
   "file_extension": ".py",
   "mimetype": "text/x-python",
   "name": "python",
   "nbconvert_exporter": "python",
   "pygments_lexer": "ipython3",
   "version": "3.6.8"
  }
 },
 "nbformat": 4,
 "nbformat_minor": 2
}
